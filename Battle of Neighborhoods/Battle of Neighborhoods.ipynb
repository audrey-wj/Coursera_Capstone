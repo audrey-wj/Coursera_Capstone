{
 "cells": [
  {
   "cell_type": "markdown",
   "metadata": {},
   "source": [
    "# Battle of the Neighborhoods\n",
    "\n",
    "### -- A Glance of the Major Cities in Canada from a Tourist's Point of View"
   ]
  },
  {
   "cell_type": "markdown",
   "metadata": {},
   "source": [
    "## 1. Business Proglem\n",
    "\n",
    "### 1.1 Inspiration\n",
    "As a first time visitor in Canada, 3 of the major cities Toronto, Vandouver and Ottawa are on my list. \n",
    "While planning my trip, I want to learn about the cities on the high level so I know what to expect, and what to focus on in each city.\n",
    "#####    1.1.1 Downtowns: How similar/dissimilar are the downtowns?\n",
    "#####    1.1.2 Neighborhoods: What are the different neighborhoods in each city?\n",
    "#####    1.1.3 Food Selection: What are the most popular cuisines in each city?\n",
    "#####    1.1.4 To-do: What are the most popular recreational activities in each city?\n",
    "#####    1.1.5 Other: What are some of the unique characteristics of each city?\n",
    "\n",
    "### 1.2 Generalization\n",
    "This analysis can be packaged into a product that provides customizable trip planning service to travelers.\n",
    "##### 1.2.1 Custom Combination of Cities\n",
    "Unlike most of the current travel sites that provide plans for only fixed combination of cities, with this tool customers can create their own combination of cities in the plan. The tool will then run the analysis in real time and provide costomized reports.\n",
    "##### 1.2.2 Compare and Contrast\n",
    "Rather than just giving out plans, compare and contrast the cities from various perspective to give travelers more background information. Travelers can then refine their plans to include/exclude, or increase/reduce time in certain cities based on what they see and what interest them\n",
    "##### 1.2.3 Refining Plans by Category\n",
    "In each categories (such as food, culture, activities), customers can have an overview of what’s most popular and what’s most unique to each city, so that they can prioritize based on their own interests."
   ]
  },
  {
   "cell_type": "markdown",
   "metadata": {},
   "source": [
    "## 2. Data\n",
    "\n",
    "To achieve this, a few different datasets will be needed. I will discuss each of them in the upcoming section.\n",
    "\n",
    "### 2.1 Zip Code and Neiborhood\n",
    "\n",
    "##### 2.1.1 Formatted Data\n",
    "For Toronto, there’s a well-formatted data source that contains zip code – neighborhood information:\n",
    "https://en.wikipedia.org/wiki/List_of_postal_codes_of_Canada:_M\n",
    "\n",
    "Once scraped from the website, there's not a lot of transformation needed to convert it into a clean dataframe. However, some processing and cleansing is still needed to address the following issue: 1) Rows with missing information, and 2) Records that are outside of the area we are interested in"
   ]
  },
  {
   "cell_type": "code",
   "execution_count": 1,
   "metadata": {},
   "outputs": [],
   "source": [
    "import numpy as np # library to handle data in a vectorized manner\n",
    "\n",
    "import pandas as pd # library for data analsysis\n",
    "pd.set_option('display.max_columns', None)\n",
    "pd.set_option('display.max_rows', None)\n",
    "\n",
    "import requests # library to handle requests\n",
    "\n",
    "# conda install -c anaconda beautifulsoup4 \n",
    "from bs4 import BeautifulSoup"
   ]
  },
  {
   "cell_type": "code",
   "execution_count": 2,
   "metadata": {},
   "outputs": [
    {
     "data": {
      "text/html": [
       "<div>\n",
       "<style scoped>\n",
       "    .dataframe tbody tr th:only-of-type {\n",
       "        vertical-align: middle;\n",
       "    }\n",
       "\n",
       "    .dataframe tbody tr th {\n",
       "        vertical-align: top;\n",
       "    }\n",
       "\n",
       "    .dataframe thead th {\n",
       "        text-align: right;\n",
       "    }\n",
       "</style>\n",
       "<table border=\"1\" class=\"dataframe\">\n",
       "  <thead>\n",
       "    <tr style=\"text-align: right;\">\n",
       "      <th></th>\n",
       "      <th>Postcode</th>\n",
       "      <th>Borough</th>\n",
       "      <th>Neighbourhood</th>\n",
       "    </tr>\n",
       "  </thead>\n",
       "  <tbody>\n",
       "    <tr>\n",
       "      <th>0</th>\n",
       "      <td>M1A</td>\n",
       "      <td>Not assigned</td>\n",
       "      <td>Not assigned</td>\n",
       "    </tr>\n",
       "    <tr>\n",
       "      <th>1</th>\n",
       "      <td>M2A</td>\n",
       "      <td>Not assigned</td>\n",
       "      <td>Not assigned</td>\n",
       "    </tr>\n",
       "    <tr>\n",
       "      <th>2</th>\n",
       "      <td>M3A</td>\n",
       "      <td>North York</td>\n",
       "      <td>Parkwoods</td>\n",
       "    </tr>\n",
       "    <tr>\n",
       "      <th>3</th>\n",
       "      <td>M4A</td>\n",
       "      <td>North York</td>\n",
       "      <td>Victoria Village</td>\n",
       "    </tr>\n",
       "    <tr>\n",
       "      <th>4</th>\n",
       "      <td>M5A</td>\n",
       "      <td>Downtown Toronto</td>\n",
       "      <td>Harbourfront</td>\n",
       "    </tr>\n",
       "  </tbody>\n",
       "</table>\n",
       "</div>"
      ],
      "text/plain": [
       "  Postcode           Borough     Neighbourhood\n",
       "0      M1A      Not assigned      Not assigned\n",
       "1      M2A      Not assigned      Not assigned\n",
       "2      M3A        North York         Parkwoods\n",
       "3      M4A        North York  Victoria Village\n",
       "4      M5A  Downtown Toronto      Harbourfront"
      ]
     },
     "execution_count": 2,
     "metadata": {},
     "output_type": "execute_result"
    }
   ],
   "source": [
    "res = requests.get(\"https://en.wikipedia.org/wiki/List_of_postal_codes_of_Canada:_M\")\n",
    "soup = BeautifulSoup(res.content,'lxml')\n",
    "table = soup.find_all('table')[0] \n",
    "df = pd.read_html(str(table))\n",
    "# Save initial DataFrame to df_toronto\n",
    "df_toronto = df[0]\n",
    "df_toronto.head()"
   ]
  },
  {
   "cell_type": "code",
   "execution_count": 3,
   "metadata": {},
   "outputs": [],
   "source": [
    "# Data Cleansing\n",
    "\n",
    "# drop records where Borough = 'Not assigned'\n",
    "df_toronto = df_toronto[df_toronto.Borough != 'Not assigned']\n",
    "# Now check records where Borough = 'Not assigned'. There shoudn't be any records showing anymore\n",
    "df_toronto[df_toronto.Borough == 'Not assigned']\n",
    "# group data by by PostCode, and combine records by concatenating \"Neighbourhood\" values as comma deliminated strings\n",
    "df_toronto = df_toronto.groupby(['Postcode','Borough'])['Neighbourhood'].apply(lambda x: ','.join(x)).reset_index()\n",
    "# If Neighbourhood = \"Not assigned\", assign Borough value to Neighbourhood\n",
    "df_toronto[df_toronto.Neighbourhood == 'Not assigned'] = df_toronto[df_toronto.Neighbourhood == 'Not assigned'].assign(Neighbourhood = df_toronto[df_toronto.Neighbourhood == 'Not assigned'].Borough)\n",
    "# Rename column \"Postcode\" to \"PostalCode\"\n",
    "df_toronto.rename(columns = {'Postcode':'PostalCode'}, inplace = True)"
   ]
  },
  {
   "cell_type": "code",
   "execution_count": 4,
   "metadata": {},
   "outputs": [
    {
     "data": {
      "text/plain": [
       "(38, 3)"
      ]
     },
     "execution_count": 4,
     "metadata": {},
     "output_type": "execute_result"
    }
   ],
   "source": [
    "# keep only records that has the string \"Toronto\" in their Boroughs\n",
    "toronto_data = df_toronto[df_toronto['Borough'].str.contains('Toronto')]\n",
    "np.shape(toronto_data)"
   ]
  },
  {
   "cell_type": "code",
   "execution_count": 5,
   "metadata": {},
   "outputs": [
    {
     "data": {
      "text/html": [
       "<div>\n",
       "<style scoped>\n",
       "    .dataframe tbody tr th:only-of-type {\n",
       "        vertical-align: middle;\n",
       "    }\n",
       "\n",
       "    .dataframe tbody tr th {\n",
       "        vertical-align: top;\n",
       "    }\n",
       "\n",
       "    .dataframe thead th {\n",
       "        text-align: right;\n",
       "    }\n",
       "</style>\n",
       "<table border=\"1\" class=\"dataframe\">\n",
       "  <thead>\n",
       "    <tr style=\"text-align: right;\">\n",
       "      <th></th>\n",
       "      <th>PostalCode</th>\n",
       "      <th>Borough</th>\n",
       "      <th>Neighbourhood</th>\n",
       "    </tr>\n",
       "  </thead>\n",
       "  <tbody>\n",
       "    <tr>\n",
       "      <th>37</th>\n",
       "      <td>M4E</td>\n",
       "      <td>East Toronto</td>\n",
       "      <td>The Beaches</td>\n",
       "    </tr>\n",
       "    <tr>\n",
       "      <th>41</th>\n",
       "      <td>M4K</td>\n",
       "      <td>East Toronto</td>\n",
       "      <td>The Danforth West,Riverdale</td>\n",
       "    </tr>\n",
       "    <tr>\n",
       "      <th>42</th>\n",
       "      <td>M4L</td>\n",
       "      <td>East Toronto</td>\n",
       "      <td>The Beaches West,India Bazaar</td>\n",
       "    </tr>\n",
       "    <tr>\n",
       "      <th>43</th>\n",
       "      <td>M4M</td>\n",
       "      <td>East Toronto</td>\n",
       "      <td>Studio District</td>\n",
       "    </tr>\n",
       "    <tr>\n",
       "      <th>44</th>\n",
       "      <td>M4N</td>\n",
       "      <td>Central Toronto</td>\n",
       "      <td>Lawrence Park</td>\n",
       "    </tr>\n",
       "  </tbody>\n",
       "</table>\n",
       "</div>"
      ],
      "text/plain": [
       "   PostalCode          Borough                  Neighbourhood\n",
       "37        M4E     East Toronto                    The Beaches\n",
       "41        M4K     East Toronto    The Danforth West,Riverdale\n",
       "42        M4L     East Toronto  The Beaches West,India Bazaar\n",
       "43        M4M     East Toronto                Studio District\n",
       "44        M4N  Central Toronto                  Lawrence Park"
      ]
     },
     "execution_count": 5,
     "metadata": {},
     "output_type": "execute_result"
    }
   ],
   "source": [
    "toronto_data.head()"
   ]
  },
  {
   "cell_type": "markdown",
   "metadata": {},
   "source": [
    "##### 2.1.2 Unformatted Data\n",
    "For Vancouver and Ottawa, more data processing is needed\n",
    "\n",
    "Vancouver: https://en.wikipedia.org/wiki/List_of_postal_codes_of_Canada:_V\n",
    "\n",
    "Ottawa: https://en.wikipedia.org/wiki/List_of_postal_codes_of_Canada:_K\n",
    "\n",
    "Data is not organized in the format we need, some processing is required\n",
    "Some cleansing is needed for missing data and irrelevant data (for the screenshot shown, need to limit to Vancouver data only)"
   ]
  },
  {
   "cell_type": "code",
   "execution_count": 6,
   "metadata": {},
   "outputs": [],
   "source": [
    "# Firstly, process Vancouver data\n",
    "res = requests.get(\"https://en.wikipedia.org/wiki/List_of_postal_codes_of_Canada:_V\")\n",
    "soup = BeautifulSoup(res.content,'lxml')\n",
    "table = soup.find_all('table')[0] \n",
    "df = pd.read_html(str(table))"
   ]
  },
  {
   "cell_type": "code",
   "execution_count": 7,
   "metadata": {},
   "outputs": [
    {
     "data": {
      "text/html": [
       "<div>\n",
       "<style scoped>\n",
       "    .dataframe tbody tr th:only-of-type {\n",
       "        vertical-align: middle;\n",
       "    }\n",
       "\n",
       "    .dataframe tbody tr th {\n",
       "        vertical-align: top;\n",
       "    }\n",
       "\n",
       "    .dataframe thead th {\n",
       "        text-align: right;\n",
       "    }\n",
       "</style>\n",
       "<table border=\"1\" class=\"dataframe\">\n",
       "  <thead>\n",
       "    <tr style=\"text-align: right;\">\n",
       "      <th></th>\n",
       "      <th>0</th>\n",
       "    </tr>\n",
       "  </thead>\n",
       "  <tbody>\n",
       "    <tr>\n",
       "      <th>0</th>\n",
       "      <td>V1AKimberley</td>\n",
       "    </tr>\n",
       "    <tr>\n",
       "      <th>1</th>\n",
       "      <td>V2APenticton</td>\n",
       "    </tr>\n",
       "    <tr>\n",
       "      <th>2</th>\n",
       "      <td>V3ALangley Township(Langley City)</td>\n",
       "    </tr>\n",
       "    <tr>\n",
       "      <th>3</th>\n",
       "      <td>V4ASurreySouthwest</td>\n",
       "    </tr>\n",
       "    <tr>\n",
       "      <th>4</th>\n",
       "      <td>V5ABurnaby(Government Road / Lake City / SFU /...</td>\n",
       "    </tr>\n",
       "  </tbody>\n",
       "</table>\n",
       "</div>"
      ],
      "text/plain": [
       "                                                   0\n",
       "0                                       V1AKimberley\n",
       "1                                       V2APenticton\n",
       "2                  V3ALangley Township(Langley City)\n",
       "3                                 V4ASurreySouthwest\n",
       "4  V5ABurnaby(Government Road / Lake City / SFU /..."
      ]
     },
     "execution_count": 7,
     "metadata": {},
     "output_type": "execute_result"
    }
   ],
   "source": [
    "df = pd.DataFrame(df[0])\n",
    "df = pd.DataFrame(df.values.flatten())\n",
    "df.head()"
   ]
  },
  {
   "cell_type": "code",
   "execution_count": 8,
   "metadata": {},
   "outputs": [
    {
     "name": "stderr",
     "output_type": "stream",
     "text": [
      "C:\\ProgramData\\Anaconda3\\lib\\site-packages\\ipykernel_launcher.py:9: SettingWithCopyWarning: \n",
      "A value is trying to be set on a copy of a slice from a DataFrame.\n",
      "Try using .loc[row_indexer,col_indexer] = value instead\n",
      "\n",
      "See the caveats in the documentation: http://pandas.pydata.org/pandas-docs/stable/indexing.html#indexing-view-versus-copy\n",
      "  if __name__ == '__main__':\n",
      "C:\\ProgramData\\Anaconda3\\lib\\site-packages\\ipykernel_launcher.py:10: SettingWithCopyWarning: \n",
      "A value is trying to be set on a copy of a slice from a DataFrame.\n",
      "Try using .loc[row_indexer,col_indexer] = value instead\n",
      "\n",
      "See the caveats in the documentation: http://pandas.pydata.org/pandas-docs/stable/indexing.html#indexing-view-versus-copy\n",
      "  # Remove the CWD from sys.path while we load stuff.\n",
      "C:\\ProgramData\\Anaconda3\\lib\\site-packages\\pandas\\core\\frame.py:3940: SettingWithCopyWarning: \n",
      "A value is trying to be set on a copy of a slice from a DataFrame\n",
      "\n",
      "See the caveats in the documentation: http://pandas.pydata.org/pandas-docs/stable/indexing.html#indexing-view-versus-copy\n",
      "  errors=errors)\n"
     ]
    },
    {
     "data": {
      "text/plain": [
       "(44, 3)"
      ]
     },
     "execution_count": 8,
     "metadata": {},
     "output_type": "execute_result"
    }
   ],
   "source": [
    "# parse out Postal Code (first 3 characters in column 0)\n",
    "df['PostalCode'] = df[0].apply(lambda x: x[:3])\n",
    "df['new_col'] = df[0].apply(lambda x: x[3:])\n",
    "# keep only records that contain the string \"Vancouver\"\n",
    "vancouver_data = df[df['new_col'].str.contains('Vancouver')]\n",
    "# parse out the remaining two columns\n",
    "# find location of the string \"Vancouver\", Bourough will be the string before that plus the string \"Vancouver\"\n",
    "# Neighborhood will be the string after \"Vancouver\"\n",
    "vancouver_data['Bourough'] = vancouver_data.new_col.apply(lambda x: x[:x.find('Vancouver') + 9])\n",
    "vancouver_data['Neiborhood'] = vancouver_data.new_col.apply(lambda x: x[x.find('Vancouver') + 9:])\n",
    "# Clean up the dataframe by dropping columns created for intermidiate steps\n",
    "vancouver_data.drop(['new_col'], axis=1, inplace=True)\n",
    "vancouver_data.drop(vancouver_data.columns[0], axis=1, inplace=True)\n",
    "# check the shape of the final dataframe\n",
    "np.shape(vancouver_data)"
   ]
  },
  {
   "cell_type": "code",
   "execution_count": 9,
   "metadata": {},
   "outputs": [
    {
     "data": {
      "text/html": [
       "<div>\n",
       "<style scoped>\n",
       "    .dataframe tbody tr th:only-of-type {\n",
       "        vertical-align: middle;\n",
       "    }\n",
       "\n",
       "    .dataframe tbody tr th {\n",
       "        vertical-align: top;\n",
       "    }\n",
       "\n",
       "    .dataframe thead th {\n",
       "        text-align: right;\n",
       "    }\n",
       "</style>\n",
       "<table border=\"1\" class=\"dataframe\">\n",
       "  <thead>\n",
       "    <tr style=\"text-align: right;\">\n",
       "      <th></th>\n",
       "      <th>PostalCode</th>\n",
       "      <th>Bourough</th>\n",
       "      <th>Neiborhood</th>\n",
       "    </tr>\n",
       "  </thead>\n",
       "  <tbody>\n",
       "    <tr>\n",
       "      <th>5</th>\n",
       "      <td>V6A</td>\n",
       "      <td>Vancouver</td>\n",
       "      <td>(Strathcona / Chinatown / Downtown Eastside)</td>\n",
       "    </tr>\n",
       "    <tr>\n",
       "      <th>14</th>\n",
       "      <td>V6B</td>\n",
       "      <td>Vancouver</td>\n",
       "      <td>(NE Downtown / Gastown / Harbour Centre / Inte...</td>\n",
       "    </tr>\n",
       "    <tr>\n",
       "      <th>23</th>\n",
       "      <td>V6C</td>\n",
       "      <td>Vancouver</td>\n",
       "      <td>(Waterfront / Coal Harbour / Canada Place)</td>\n",
       "    </tr>\n",
       "    <tr>\n",
       "      <th>32</th>\n",
       "      <td>V6E</td>\n",
       "      <td>Vancouver</td>\n",
       "      <td>(SE West End / Davie Village)</td>\n",
       "    </tr>\n",
       "    <tr>\n",
       "      <th>41</th>\n",
       "      <td>V6G</td>\n",
       "      <td>Vancouver</td>\n",
       "      <td>(NW West End / Stanley Park)</td>\n",
       "    </tr>\n",
       "  </tbody>\n",
       "</table>\n",
       "</div>"
      ],
      "text/plain": [
       "   PostalCode   Bourough                                         Neiborhood\n",
       "5         V6A  Vancouver       (Strathcona / Chinatown / Downtown Eastside)\n",
       "14        V6B  Vancouver  (NE Downtown / Gastown / Harbour Centre / Inte...\n",
       "23        V6C  Vancouver         (Waterfront / Coal Harbour / Canada Place)\n",
       "32        V6E  Vancouver                      (SE West End / Davie Village)\n",
       "41        V6G  Vancouver                       (NW West End / Stanley Park)"
      ]
     },
     "execution_count": 9,
     "metadata": {},
     "output_type": "execute_result"
    }
   ],
   "source": [
    "vancouver_data.head()"
   ]
  },
  {
   "cell_type": "code",
   "execution_count": 10,
   "metadata": {},
   "outputs": [
    {
     "data": {
      "text/html": [
       "<div>\n",
       "<style scoped>\n",
       "    .dataframe tbody tr th:only-of-type {\n",
       "        vertical-align: middle;\n",
       "    }\n",
       "\n",
       "    .dataframe tbody tr th {\n",
       "        vertical-align: top;\n",
       "    }\n",
       "\n",
       "    .dataframe thead th {\n",
       "        text-align: right;\n",
       "    }\n",
       "</style>\n",
       "<table border=\"1\" class=\"dataframe\">\n",
       "  <thead>\n",
       "    <tr style=\"text-align: right;\">\n",
       "      <th></th>\n",
       "      <th>0</th>\n",
       "    </tr>\n",
       "  </thead>\n",
       "  <tbody>\n",
       "    <tr>\n",
       "      <th>0</th>\n",
       "      <td>K1AGovernment of CanadaOttawa and Gatineau off...</td>\n",
       "    </tr>\n",
       "    <tr>\n",
       "      <th>1</th>\n",
       "      <td>K2AOttawa(Highland Park / McKellar Park /Westb...</td>\n",
       "    </tr>\n",
       "    <tr>\n",
       "      <th>2</th>\n",
       "      <td>K4AOttawa(Fallingbrook)</td>\n",
       "    </tr>\n",
       "    <tr>\n",
       "      <th>3</th>\n",
       "      <td>K6AHawkesbury</td>\n",
       "    </tr>\n",
       "    <tr>\n",
       "      <th>4</th>\n",
       "      <td>K7ASmiths Falls</td>\n",
       "    </tr>\n",
       "  </tbody>\n",
       "</table>\n",
       "</div>"
      ],
      "text/plain": [
       "                                                   0\n",
       "0  K1AGovernment of CanadaOttawa and Gatineau off...\n",
       "1  K2AOttawa(Highland Park / McKellar Park /Westb...\n",
       "2                            K4AOttawa(Fallingbrook)\n",
       "3                                      K6AHawkesbury\n",
       "4                                    K7ASmiths Falls"
      ]
     },
     "execution_count": 10,
     "metadata": {},
     "output_type": "execute_result"
    }
   ],
   "source": [
    "# Now repeat the previous steps to process Ottawa data\n",
    "res = requests.get(\"https://en.wikipedia.org/wiki/List_of_postal_codes_of_Canada:_K\")\n",
    "soup = BeautifulSoup(res.content,'lxml')\n",
    "table = soup.find_all('table')[0] \n",
    "df = pd.read_html(str(table))\n",
    "df = pd.DataFrame(df[0])\n",
    "df = pd.DataFrame(df.values.flatten())\n",
    "df.head()"
   ]
  },
  {
   "cell_type": "code",
   "execution_count": 11,
   "metadata": {},
   "outputs": [
    {
     "name": "stderr",
     "output_type": "stream",
     "text": [
      "C:\\ProgramData\\Anaconda3\\lib\\site-packages\\ipykernel_launcher.py:9: SettingWithCopyWarning: \n",
      "A value is trying to be set on a copy of a slice from a DataFrame.\n",
      "Try using .loc[row_indexer,col_indexer] = value instead\n",
      "\n",
      "See the caveats in the documentation: http://pandas.pydata.org/pandas-docs/stable/indexing.html#indexing-view-versus-copy\n",
      "  if __name__ == '__main__':\n",
      "C:\\ProgramData\\Anaconda3\\lib\\site-packages\\ipykernel_launcher.py:10: SettingWithCopyWarning: \n",
      "A value is trying to be set on a copy of a slice from a DataFrame.\n",
      "Try using .loc[row_indexer,col_indexer] = value instead\n",
      "\n",
      "See the caveats in the documentation: http://pandas.pydata.org/pandas-docs/stable/indexing.html#indexing-view-versus-copy\n",
      "  # Remove the CWD from sys.path while we load stuff.\n"
     ]
    },
    {
     "data": {
      "text/plain": [
       "(40, 3)"
      ]
     },
     "execution_count": 11,
     "metadata": {},
     "output_type": "execute_result"
    }
   ],
   "source": [
    "# parse out Postal Code (first 3 characters in column 0)\n",
    "df['PostalCode'] = df[0].apply(lambda x: x[:3])\n",
    "df['new_col'] = df[0].apply(lambda x: x[3:])\n",
    "# keep only records that contain the string \"Ottawa\"\n",
    "ottawa_data = df[df['new_col'].str.contains('Ottawa')]\n",
    "# parse out the remaining two columns\n",
    "# find location of the string \"Ottawa\", Bourough will be the string before that plus the string \"Ottawa\"\n",
    "# Neighborhood will be the string after \"Ottawa\"\n",
    "ottawa_data['Bourough'] = ottawa_data.new_col.apply(lambda x: x[:x.find('Ottawa') + 6])\n",
    "ottawa_data['Neiborhood'] = ottawa_data.new_col.apply(lambda x: x[x.find('Ottawa') + 6:])\n",
    "# Clean up the dataframe by dropping columns created for intermidiate steps\n",
    "ottawa_data.drop(['new_col'], axis=1, inplace=True)\n",
    "ottawa_data.drop(ottawa_data.columns[0], axis=1, inplace=True)\n",
    "# In addition, we don't need the first record (Government of Canada, index = 0), so drop it\n",
    "ottawa_data.drop(ottawa_data.index[0], inplace=True)\n",
    "# check the shape of the final dataframe\n",
    "np.shape(ottawa_data)"
   ]
  },
  {
   "cell_type": "code",
   "execution_count": 12,
   "metadata": {},
   "outputs": [
    {
     "data": {
      "text/html": [
       "<div>\n",
       "<style scoped>\n",
       "    .dataframe tbody tr th:only-of-type {\n",
       "        vertical-align: middle;\n",
       "    }\n",
       "\n",
       "    .dataframe tbody tr th {\n",
       "        vertical-align: top;\n",
       "    }\n",
       "\n",
       "    .dataframe thead th {\n",
       "        text-align: right;\n",
       "    }\n",
       "</style>\n",
       "<table border=\"1\" class=\"dataframe\">\n",
       "  <thead>\n",
       "    <tr style=\"text-align: right;\">\n",
       "      <th></th>\n",
       "      <th>PostalCode</th>\n",
       "      <th>Bourough</th>\n",
       "      <th>Neiborhood</th>\n",
       "    </tr>\n",
       "  </thead>\n",
       "  <tbody>\n",
       "    <tr>\n",
       "      <th>1</th>\n",
       "      <td>K2A</td>\n",
       "      <td>Ottawa</td>\n",
       "      <td>(Highland Park / McKellar Park /Westboro /Glab...</td>\n",
       "    </tr>\n",
       "    <tr>\n",
       "      <th>2</th>\n",
       "      <td>K4A</td>\n",
       "      <td>Ottawa</td>\n",
       "      <td>(Fallingbrook)</td>\n",
       "    </tr>\n",
       "    <tr>\n",
       "      <th>7</th>\n",
       "      <td>K1B</td>\n",
       "      <td>Ottawa</td>\n",
       "      <td>(Blackburn Hamlet / Pine View / Sheffield Glen)</td>\n",
       "    </tr>\n",
       "    <tr>\n",
       "      <th>8</th>\n",
       "      <td>K2B</td>\n",
       "      <td>Ottawa</td>\n",
       "      <td>(Britannia /Whitehaven / Bayshore / Pinecrest)</td>\n",
       "    </tr>\n",
       "    <tr>\n",
       "      <th>9</th>\n",
       "      <td>K4B</td>\n",
       "      <td>Ottawa</td>\n",
       "      <td>(Navan)</td>\n",
       "    </tr>\n",
       "  </tbody>\n",
       "</table>\n",
       "</div>"
      ],
      "text/plain": [
       "  PostalCode Bourough                                         Neiborhood\n",
       "1        K2A   Ottawa  (Highland Park / McKellar Park /Westboro /Glab...\n",
       "2        K4A   Ottawa                                     (Fallingbrook)\n",
       "7        K1B   Ottawa    (Blackburn Hamlet / Pine View / Sheffield Glen)\n",
       "8        K2B   Ottawa     (Britannia /Whitehaven / Bayshore / Pinecrest)\n",
       "9        K4B   Ottawa                                            (Navan)"
      ]
     },
     "execution_count": 12,
     "metadata": {},
     "output_type": "execute_result"
    }
   ],
   "source": [
    "ottawa_data.head()"
   ]
  },
  {
   "cell_type": "markdown",
   "metadata": {},
   "source": [
    "### 2.2 Coordinates\n",
    "Data is downloaded in csv format from Google fusion table:\n",
    "https://fusiontables.google.com/DataSource?docid=1H_cl-oyeG4FDwqJUTeI_aGKmmkJdPDzRNccp96M&hl=en_US&pli=1\n",
    "for FSA starting with V and K"
   ]
  },
  {
   "cell_type": "code",
   "execution_count": null,
   "metadata": {},
   "outputs": [],
   "source": []
  },
  {
   "cell_type": "markdown",
   "metadata": {},
   "source": [
    "### 2.3 Venue Information\n",
    "Use Foursqaure API to explore evenues near each Zip Code. The format of API is https://api.foursquare.com/v2/venues/explore?client_id={}&client_secret={}&ll={},{}&v={}&radius={}&limit={}\n",
    "\n",
    "Once data is obtained, a cluster analysis will be performed on neighborhoods, to find different groups of neighborhoods in each city.\n",
    "\n",
    "For analysis on “food selection”, “to-do”, and “others”, realized the “category name” of venues are too detailed/granular for the purpose of this analysis. For example, restaurants/food is separated into cuisines and subtypes of cuisines; similar for other categories. Some manual grouping (most likely based on string matches) will be needed before further analyses."
   ]
  },
  {
   "cell_type": "markdown",
   "metadata": {},
   "source": [
    "## 3. Methodology"
   ]
  },
  {
   "cell_type": "code",
   "execution_count": null,
   "metadata": {},
   "outputs": [],
   "source": []
  }
 ],
 "metadata": {
  "kernelspec": {
   "display_name": "Python 3",
   "language": "python",
   "name": "python3"
  },
  "language_info": {
   "codemirror_mode": {
    "name": "ipython",
    "version": 3
   },
   "file_extension": ".py",
   "mimetype": "text/x-python",
   "name": "python",
   "nbconvert_exporter": "python",
   "pygments_lexer": "ipython3",
   "version": "3.7.3"
  }
 },
 "nbformat": 4,
 "nbformat_minor": 2
}
